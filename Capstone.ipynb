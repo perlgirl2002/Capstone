{
 "cells": [
  {
   "cell_type": "markdown",
   "metadata": {},
   "source": [
    "# Data Science Capstone Project \n",
    "##  Analysis of Computer Process Events from the Comprehensive, Multi-Source Cybersecurity Events \n",
    "\n",
    "## Kimberly Nowell-Berry\n",
    "###  September 2017\n",
    "\n",
    "### Purpose\n",
    "The purpose of this capstone project is analyze and visualize data from the Comprehensive, Multi-Source Cybersecurity Events.  Specifically, this project concentrates on process events. Exploratory data analysis of Windows-based process events that includes visualizations and observations is presented.  In cybersecurity, information about processes can be used to identify anomalous processes that may indicate the presence of malware, advanced persistent threats (APTs), unauthorized changes to the system, or more generally, performance information about the processes or computers themselves.  This project tries to identify similar users, i.e., users that run similar processes.\n",
    "\n",
    "### Data\n",
    "\n",
    "The data used in this capstone project is a 58 day, de-identified capture of users, computers, and processes on a network.  The data was retrieved from Windows endpoints/computers on the network and although de-identified, maintain  similar information to what can be found in normal Windows Security Event Logs.  This particular data, for individual computer systems directly translate to Windows start and stop event IDs: 4688 and 4689.  These represent granular workstation activity and can be used to identify what happens on the workstation after the user has logged in. The data do not include full path information of the processes themselves, nor does it include command options that may have been used during process start events.  The data was made available from Los Alamos National Laboratory, and can be retrieved here:\n",
    "https://csr.lanl.gov/data/cyber1/\n",
    "\n",
    "A. D. Kent, “Comprehensive, Multi-Source Cybersecurity Events,” Los Alamos National Laboratory, http://dx.doi.org/10.17021/1179829, 2015.\n",
    "\n",
    "#### Data Format\n",
    "The data will have the format of: \n",
    "\"time,user@domain,computer,process name,start/end\" and represents a process event at the given time. \n",
    "\n",
    "1. time\n",
    " Time starts at epoch 1 and increments at 1 second.  \n",
    "2. user@domain\n",
    " This data identifies a unique user.  You might see U1@DOM1 and U1@COMP2.  These are unique users:  the first identifies a user on a domain, and the second identifies a local user account on a computer.  This may translate in reality to the same person, but from a logging event, they are unique accounts, i.e., the person may have 2 accounts.  This cannot be assumed, however, and is treated as unique.  Unique identification of users helps attribution of events.\n",
    "3.  computer\n",
    " This data identifies a unique computer.\n",
    "4.  process name\n",
    " This data identifies unique processes. \n",
    "5.  start/end\n",
    " This is a categorical feature that identifies whether or not the process in the event was started or stopped.  "
   ]
  },
  {
   "cell_type": "markdown",
   "metadata": {},
   "source": [
    "### Importing the necessary libraries"
   ]
  },
  {
   "cell_type": "code",
   "execution_count": 1,
   "metadata": {
    "collapsed": true
   },
   "outputs": [],
   "source": [
    "import pandas as pd\n",
    "import numpy as np\n",
    "import matplotlib.pyplot as plt\n",
    "import seaborn as sns\n",
    "%matplotlib inline"
   ]
  },
  {
   "cell_type": "markdown",
   "metadata": {},
   "source": [
    "### Importing Data\n",
    "Importing here, sampling only 50000 allows for initial data analysis.  Ultimately, this should take in the entire data set."
   ]
  },
  {
   "cell_type": "code",
   "execution_count": 2,
   "metadata": {
    "collapsed": true
   },
   "outputs": [],
   "source": [
    "columns = ['time', 'username', 'computer', 'process_name', 'start_or_stop']\n",
    "df = pd.read_csv(\"./proc.txt\", nrows=50000)\n",
    "df.columns=columns"
   ]
  },
  {
   "cell_type": "markdown",
   "metadata": {},
   "source": [
    "### Feature Analysis"
   ]
  },
  {
   "cell_type": "markdown",
   "metadata": {},
   "source": [
    "#### Users \n",
    "Users are a principal component of this data set.  They are the actor of the event and can be used to attribute specific actions."
   ]
  },
  {
   "cell_type": "code",
   "execution_count": 3,
   "metadata": {},
   "outputs": [
    {
     "name": "stdout",
     "output_type": "stream",
     "text": [
      "Total Number of Users:  3008\n",
      "Maximum records for a user in the data:  1637\n",
      "User that was the most active:  C1685$@DOM1\n"
     ]
    }
   ],
   "source": [
    "print(\"Total Number of Users: \", df['username'].nunique())\n",
    "print(\"Maximum records for a user in the data: \", df['username'].value_counts().max())\n",
    "print(\"User that was the most active: \", df['username'].mode()[0]) "
   ]
  },
  {
   "cell_type": "markdown",
   "metadata": {},
   "source": [
    "Below you can see an example of the various domains and local accounts that records were recorded from.  Distinguishing between local accounts versus domain accounts helps to refine Incident Response activities.  Restricting correlation of events to events on the network versus events local to a single computer is valuable information."
   ]
  },
  {
   "cell_type": "code",
   "execution_count": 4,
   "metadata": {},
   "outputs": [
    {
     "data": {
      "text/plain": [
       "DOM1     985\n",
       "C2039      5\n",
       "C1503      3\n",
       "DOM3       2\n",
       "C1504      2\n",
       "C984       1\n",
       "C2547      1\n",
       "C398       1\n",
       "Name: 1, dtype: int64"
      ]
     },
     "execution_count": 4,
     "metadata": {},
     "output_type": "execute_result"
    }
   ],
   "source": [
    "df.head(1000)['username'].str.split('@').apply(pd.Series)[1].value_counts()"
   ]
  },
  {
   "cell_type": "markdown",
   "metadata": {},
   "source": [
    "####  Computers \n",
    "Computers indicate where on network the processes were run.  "
   ]
  },
  {
   "cell_type": "code",
   "execution_count": 5,
   "metadata": {},
   "outputs": [
    {
     "name": "stdout",
     "output_type": "stream",
     "text": [
      "Total Number of Computers:  2471\n",
      "Number of events associated with the computer that was seen most frequently:  1637\n",
      "Computer that was seen most frequently:  C1685\n"
     ]
    }
   ],
   "source": [
    "print(\"Total Number of Computers: \", df['computer'].nunique())\n",
    "print(\"Number of events associated with the computer that was seen most frequently: \", df['computer'].value_counts().max())\n",
    "print(\"Computer that was seen most frequently: \", df['computer'].mode()[0])"
   ]
  },
  {
   "cell_type": "markdown",
   "metadata": {},
   "source": [
    "##### Visualization of Computer Frequency"
   ]
  },
  {
   "cell_type": "code",
   "execution_count": 6,
   "metadata": {},
   "outputs": [
    {
     "data": {
      "text/plain": [
       "<matplotlib.text.Text at 0x1369aeac400>"
      ]
     },
     "execution_count": 6,
     "metadata": {},
     "output_type": "execute_result"
    },
    {
     "data": {
      "image/png": "[encoded data removed]",
      "text/plain": [
       "<matplotlib.figure.Figure at 0x1369b041c18>"
      ]
     },
     "metadata": {},
     "output_type": "display_data"
    }
   ],
   "source": [
    "computers_df = df['computer'].value_counts().reset_index() \n",
    "columns = ['computer','count']\n",
    "computers_df.columns=columns\n",
    "plt.hist(computers_df['count'])\n",
    "plt.title('Computer Events for the sample')\n",
    "plt.ylabel('Number of Computers')\n",
    "plt.xlabel('Computer Event Count')"
   ]
  },
  {
   "cell_type": "markdown",
   "metadata": {},
   "source": [
    "1.  You can see from this visualization that most computers were seen on the network 150 times or less\n",
    "2.  Some comuters were seen about 200-450 times\n",
    "3.  The most unique computers were seen more than 1200 times.  These represent the most active computers on the network."
   ]
  },
  {
   "cell_type": "markdown",
   "metadata": {},
   "source": [
    "##### Visualization of Computer Frequency part 2\n",
    "Because the previous visualization highly skewed, to understand the data better, the data is now represented in logscale.  This representation shows that most computers are seen approximately 150 times or less in the data set.  Representing in logscale removes the significance of outliers, and allows for better visualization."
   ]
  },
  {
   "cell_type": "code",
   "execution_count": 7,
   "metadata": {},
   "outputs": [
    {
     "data": {
      "text/plain": [
       "<matplotlib.text.Text at 0x1369b267b00>"
      ]
     },
     "execution_count": 7,
     "metadata": {},
     "output_type": "execute_result"
    },
    {
     "data": {
      "image/png": "[encoded data removed]",
      "text/plain": [
       "<matplotlib.figure.Figure at 0x1369b041ba8>"
      ]
     },
     "metadata": {},
     "output_type": "display_data"
    }
   ],
   "source": [
    "computers_df = df['computer'].value_counts().reset_index() \n",
    "columns = ['computer','count']\n",
    "computers_df.columns=columns\n",
    "plt.hist(computers_df['count'].apply(np.log))\n",
    "plt.title('Computer Events in Logscale')\n",
    "plt.ylabel('Number of Computers')\n",
    "plt.xlabel('Computer Event Count')"
   ]
  },
  {
   "cell_type": "markdown",
   "metadata": {},
   "source": [
    "#### Processes\n",
    "Processes represent individual executables, programs, or applications running on a computer."
   ]
  },
  {
   "cell_type": "code",
   "execution_count": 8,
   "metadata": {},
   "outputs": [
    {
     "name": "stdout",
     "output_type": "stream",
     "text": [
      "Total Number of Unique Processes:  311\n",
      "Process that was seen most frequently:  P16\n",
      "The most frequently seen process was seen this many times:  10299\n"
     ]
    }
   ],
   "source": [
    "print(\"Total Number of Unique Processes: \", df['process_name'].nunique())\n",
    "print(\"Process that was seen most frequently: \", df['process_name'].mode()[0])\n",
    "print(\"The most frequently seen process was seen this many times: \", df['process_name'].value_counts().max())"
   ]
  },
  {
   "cell_type": "markdown",
   "metadata": {},
   "source": [
    "The describe method from pandas gives us some interesting information about the data. Most of the computers have less than 32 processes running on them for the given time period. The most unique processes were only seen once during the time period. "
   ]
  },
  {
   "cell_type": "code",
   "execution_count": 9,
   "metadata": {},
   "outputs": [
    {
     "data": {
      "text/plain": [
       "count      311.000000\n",
       "mean       160.771704\n",
       "std        763.610838\n",
       "min          1.000000\n",
       "10%          1.000000\n",
       "25%          2.000000\n",
       "50%          6.000000\n",
       "75%         31.000000\n",
       "85%        111.500000\n",
       "90%        191.000000\n",
       "95%        860.000000\n",
       "100%     10299.000000\n",
       "max      10299.000000\n",
       "Name: process_name, dtype: float64"
      ]
     },
     "execution_count": 9,
     "metadata": {},
     "output_type": "execute_result"
    }
   ],
   "source": [
    "process_df = df['process_name'].value_counts()\n",
    "process_df.describe(percentiles=[.1,.25,.5,.75,.85,.90,.95,1])"
   ]
  },
  {
   "cell_type": "markdown",
   "metadata": {},
   "source": [
    "##### Visualization of Process Frequency "
   ]
  },
  {
   "cell_type": "code",
   "execution_count": 10,
   "metadata": {},
   "outputs": [
    {
     "data": {
      "image/png": "[encoded data removed]",
      "text/plain": [
       "<matplotlib.figure.Figure at 0x1369b041b00>"
      ]
     },
     "metadata": {},
     "output_type": "display_data"
    }
   ],
   "source": [
    "process_df = df['process_name'].value_counts().reset_index() \n",
    "columns = ['process_name','count']\n",
    "process_df.columns=columns\n",
    "plt.title('Process Events for the sample')\n",
    "plt.ylabel('Number of Processes')\n",
    "plt.xlabel('Process Event Count')\n",
    "plt.hist(process_df['count']);"
   ]
  },
  {
   "cell_type": "markdown",
   "metadata": {},
   "source": [
    "##### Visualization of Process Frequency part 2\n",
    "Again, you can see that the data is highly skewed.  Using the logscale helps to visualize this data in a better fashion, neutralizing the significance of outliers."
   ]
  },
  {
   "cell_type": "code",
   "execution_count": 11,
   "metadata": {},
   "outputs": [
    {
     "data": {
      "image/png": "[encoded data removed]",
      "text/plain": [
       "<matplotlib.figure.Figure at 0x1369b46aeb8>"
      ]
     },
     "metadata": {},
     "output_type": "display_data"
    }
   ],
   "source": [
    "process_df = df['process_name'].value_counts().reset_index() \n",
    "columns = ['process_name','count']\n",
    "process_df.columns=columns\n",
    "plt.title('Process Events In Logscale')\n",
    "plt.ylabel('Number of Processes')\n",
    "plt.xlabel('Process Event Count')\n",
    "plt.hist(process_df['count'].apply(np.log));"
   ]
  },
  {
   "cell_type": "markdown",
   "metadata": {},
   "source": [
    "#### Time\n",
    "Time is represented in seconds starting from 1 used to de-identify the data."
   ]
  },
  {
   "cell_type": "code",
   "execution_count": 12,
   "metadata": {},
   "outputs": [
    {
     "name": "stdout",
     "output_type": "stream",
     "text": [
      "Latest Time seen in data:  1384\n",
      "Earlieset Time seen in data:  1\n"
     ]
    }
   ],
   "source": [
    "print(\"Latest Time seen in data: \", df['time'].max())\n",
    "print(\"Earlieset Time seen in data: \", df['time'].min())"
   ]
  },
  {
   "cell_type": "markdown",
   "metadata": {},
   "source": [
    "#### Start/Stop Events\n",
    "This data represents whether or not the process was started or whether the process was stopped."
   ]
  },
  {
   "cell_type": "code",
   "execution_count": 13,
   "metadata": {},
   "outputs": [
    {
     "name": "stdout",
     "output_type": "stream",
     "text": [
      "Total number of start and stop events: \n"
     ]
    },
    {
     "data": {
      "text/plain": [
       "Start    35630\n",
       "End      14370\n",
       "Name: start_or_stop, dtype: int64"
      ]
     },
     "execution_count": 13,
     "metadata": {},
     "output_type": "execute_result"
    }
   ],
   "source": [
    "print(\"Total number of start and stop events: \")\n",
    "df['start_or_stop'].value_counts()"
   ]
  },
  {
   "cell_type": "markdown",
   "metadata": {},
   "source": [
    "### Data Analysis\n",
    "The following computes the average number of computers per user.  Because users can log in and use multiple computers, it is useful to identify what the average number of computers per user is in this data set."
   ]
  },
  {
   "cell_type": "code",
   "execution_count": 14,
   "metadata": {},
   "outputs": [
    {
     "name": "stdout",
     "output_type": "stream",
     "text": [
      "Average number of computers per user: \n",
      "1.016622340425532\n"
     ]
    }
   ],
   "source": [
    "avg_u = df.groupby(['username'])['computer'].nunique()\n",
    "print(\"Average number of computers per user: \")\n",
    "avg_u_mean = avg_u.mean()\n",
    "print(avg_u_mean)"
   ]
  },
  {
   "cell_type": "markdown",
   "metadata": {},
   "source": [
    "The following computes the maximum number of computers used by a user.  This is useful to identify, particularly in cyber security as if the maximum number of computers used by a user is closer to the total number of computers in the envirtonment, this could possibly indicate a brute force attack."
   ]
  },
  {
   "cell_type": "code",
   "execution_count": 15,
   "metadata": {},
   "outputs": [
    {
     "name": "stdout",
     "output_type": "stream",
     "text": [
      "Maximum number of computers used by a user\n",
      "9\n"
     ]
    }
   ],
   "source": [
    "print(\"Maximum number of computers used by a user\")\n",
    "avg_u_max = avg_u.max()\n",
    "print(avg_u_max)"
   ]
  },
  {
   "cell_type": "markdown",
   "metadata": {},
   "source": [
    "#### User Similarity\n",
    "For the purposes of this project, similar users are defined as users that have run the same or similar processes during the entire timeframe of the data.  The processes run is defined as any process activity or event without regard to start or stop status.  The inclusion of start or stop is excluded as, the event itself indicates that the processes was run during the timeframe, i.e., even if the event has a \"stop\" status, for our purposes, this is irrelevant as at some point in time, the process was started in order to be stopped.\n",
    "\n",
    "To determine the similarity of users based on the process use, we __transform__ the data into a sparse matrix.\n",
    "\n",
    "- Feature Transformation\n",
    "\n",
    "We prepare the data by converting the process column into individual features; each row will have the a user in question, the user to be compared to the user in question, and the compared user's associated processes.  The presence of a process event in the data at any point in time will be indicated by a 1, otherwise, this will be 0.  The original matrix was in long format and the transformation resulted a wide matrix."
   ]
  },
  {
   "cell_type": "code",
   "execution_count": 16,
   "metadata": {},
   "outputs": [
    {
     "data": {
      "text/html": [
       "<div>\n",
       "<style>\n",
       "    .dataframe thead tr:only-child th {\n",
       "        text-align: right;\n",
       "    }\n",
       "\n",
       "    .dataframe thead th {\n",
       "        text-align: left;\n",
       "    }\n",
       "\n",
       "    .dataframe tbody tr th {\n",
       "        vertical-align: top;\n",
       "    }\n",
       "</style>\n",
       "<table border=\"1\" class=\"dataframe\">\n",
       "  <thead>\n",
       "    <tr style=\"text-align: right;\">\n",
       "      <th></th>\n",
       "      <th>P4</th>\n",
       "      <th>P3</th>\n",
       "      <th>P16</th>\n",
       "      <th>P37</th>\n",
       "      <th>P5</th>\n",
       "      <th>P8</th>\n",
       "      <th>P96</th>\n",
       "      <th>P7</th>\n",
       "      <th>P11</th>\n",
       "      <th>P47</th>\n",
       "      <th>...</th>\n",
       "      <th>P333</th>\n",
       "      <th>P312</th>\n",
       "      <th>P174</th>\n",
       "      <th>P323</th>\n",
       "      <th>P315</th>\n",
       "      <th>P319</th>\n",
       "      <th>P320</th>\n",
       "      <th>P270</th>\n",
       "      <th>P330</th>\n",
       "      <th>P339</th>\n",
       "    </tr>\n",
       "    <tr>\n",
       "      <th>username</th>\n",
       "      <th></th>\n",
       "      <th></th>\n",
       "      <th></th>\n",
       "      <th></th>\n",
       "      <th></th>\n",
       "      <th></th>\n",
       "      <th></th>\n",
       "      <th></th>\n",
       "      <th></th>\n",
       "      <th></th>\n",
       "      <th></th>\n",
       "      <th></th>\n",
       "      <th></th>\n",
       "      <th></th>\n",
       "      <th></th>\n",
       "      <th></th>\n",
       "      <th></th>\n",
       "      <th></th>\n",
       "      <th></th>\n",
       "      <th></th>\n",
       "      <th></th>\n",
       "    </tr>\n",
       "  </thead>\n",
       "  <tbody>\n",
       "    <tr>\n",
       "      <th>C1$@DOM1</th>\n",
       "      <td>0</td>\n",
       "      <td>0</td>\n",
       "      <td>1</td>\n",
       "      <td>0</td>\n",
       "      <td>0</td>\n",
       "      <td>0</td>\n",
       "      <td>0</td>\n",
       "      <td>0</td>\n",
       "      <td>0</td>\n",
       "      <td>0</td>\n",
       "      <td>...</td>\n",
       "      <td>0</td>\n",
       "      <td>0</td>\n",
       "      <td>0</td>\n",
       "      <td>0</td>\n",
       "      <td>0</td>\n",
       "      <td>0</td>\n",
       "      <td>0</td>\n",
       "      <td>0</td>\n",
       "      <td>0</td>\n",
       "      <td>0</td>\n",
       "    </tr>\n",
       "    <tr>\n",
       "      <th>C10$@DOM1</th>\n",
       "      <td>0</td>\n",
       "      <td>0</td>\n",
       "      <td>0</td>\n",
       "      <td>0</td>\n",
       "      <td>0</td>\n",
       "      <td>0</td>\n",
       "      <td>0</td>\n",
       "      <td>0</td>\n",
       "      <td>0</td>\n",
       "      <td>1</td>\n",
       "      <td>...</td>\n",
       "      <td>0</td>\n",
       "      <td>0</td>\n",
       "      <td>0</td>\n",
       "      <td>0</td>\n",
       "      <td>0</td>\n",
       "      <td>0</td>\n",
       "      <td>0</td>\n",
       "      <td>0</td>\n",
       "      <td>0</td>\n",
       "      <td>0</td>\n",
       "    </tr>\n",
       "    <tr>\n",
       "      <th>C100$@DOM1</th>\n",
       "      <td>1</td>\n",
       "      <td>1</td>\n",
       "      <td>1</td>\n",
       "      <td>0</td>\n",
       "      <td>1</td>\n",
       "      <td>1</td>\n",
       "      <td>1</td>\n",
       "      <td>0</td>\n",
       "      <td>0</td>\n",
       "      <td>0</td>\n",
       "      <td>...</td>\n",
       "      <td>0</td>\n",
       "      <td>0</td>\n",
       "      <td>0</td>\n",
       "      <td>0</td>\n",
       "      <td>0</td>\n",
       "      <td>0</td>\n",
       "      <td>0</td>\n",
       "      <td>0</td>\n",
       "      <td>0</td>\n",
       "      <td>0</td>\n",
       "    </tr>\n",
       "    <tr>\n",
       "      <th>C1000$@DOM1</th>\n",
       "      <td>1</td>\n",
       "      <td>1</td>\n",
       "      <td>1</td>\n",
       "      <td>0</td>\n",
       "      <td>0</td>\n",
       "      <td>0</td>\n",
       "      <td>0</td>\n",
       "      <td>0</td>\n",
       "      <td>0</td>\n",
       "      <td>0</td>\n",
       "      <td>...</td>\n",
       "      <td>0</td>\n",
       "      <td>0</td>\n",
       "      <td>0</td>\n",
       "      <td>0</td>\n",
       "      <td>0</td>\n",
       "      <td>0</td>\n",
       "      <td>0</td>\n",
       "      <td>0</td>\n",
       "      <td>0</td>\n",
       "      <td>0</td>\n",
       "    </tr>\n",
       "    <tr>\n",
       "      <th>C1001$@DOM1</th>\n",
       "      <td>1</td>\n",
       "      <td>1</td>\n",
       "      <td>1</td>\n",
       "      <td>0</td>\n",
       "      <td>0</td>\n",
       "      <td>0</td>\n",
       "      <td>0</td>\n",
       "      <td>0</td>\n",
       "      <td>0</td>\n",
       "      <td>0</td>\n",
       "      <td>...</td>\n",
       "      <td>0</td>\n",
       "      <td>0</td>\n",
       "      <td>0</td>\n",
       "      <td>0</td>\n",
       "      <td>0</td>\n",
       "      <td>0</td>\n",
       "      <td>0</td>\n",
       "      <td>0</td>\n",
       "      <td>0</td>\n",
       "      <td>0</td>\n",
       "    </tr>\n",
       "  </tbody>\n",
       "</table>\n",
       "<p>5 rows × 311 columns</p>\n",
       "</div>"
      ],
      "text/plain": [
       "             P4  P3  P16  P37  P5  P8  P96  P7  P11  P47  ...   P333  P312  \\\n",
       "username                                                  ...                \n",
       "C1$@DOM1      0   0    1    0   0   0    0   0    0    0  ...      0     0   \n",
       "C10$@DOM1     0   0    0    0   0   0    0   0    0    1  ...      0     0   \n",
       "C100$@DOM1    1   1    1    0   1   1    1   0    0    0  ...      0     0   \n",
       "C1000$@DOM1   1   1    1    0   0   0    0   0    0    0  ...      0     0   \n",
       "C1001$@DOM1   1   1    1    0   0   0    0   0    0    0  ...      0     0   \n",
       "\n",
       "             P174  P323  P315  P319  P320  P270  P330  P339  \n",
       "username                                                     \n",
       "C1$@DOM1        0     0     0     0     0     0     0     0  \n",
       "C10$@DOM1       0     0     0     0     0     0     0     0  \n",
       "C100$@DOM1      0     0     0     0     0     0     0     0  \n",
       "C1000$@DOM1     0     0     0     0     0     0     0     0  \n",
       "C1001$@DOM1     0     0     0     0     0     0     0     0  \n",
       "\n",
       "[5 rows x 311 columns]"
      ]
     },
     "execution_count": 16,
     "metadata": {},
     "output_type": "execute_result"
    }
   ],
   "source": [
    "copy_df = df\n",
    "del copy_df['time']\n",
    "del copy_df['computer']\n",
    "del copy_df['start_or_stop']\n",
    "for x in copy_df.process_name.unique():\n",
    "    copy_df[x]=(copy_df.process_name==x).astype(int)\n",
    "del copy_df['process_name']\n",
    "final_matrix = copy_df.groupby(['username']).max()\n",
    "final_matrix.head()"
   ]
  },
  {
   "cell_type": "markdown",
   "metadata": {},
   "source": [
    "You can see the sparse matrix above.\n",
    "\n",
    "The shape of the matrix shows us that there are 3008 unique users and 311 unique processes."
   ]
  },
  {
   "cell_type": "code",
   "execution_count": 17,
   "metadata": {},
   "outputs": [
    {
     "data": {
      "text/plain": [
       "(3008, 311)"
      ]
     },
     "execution_count": 17,
     "metadata": {},
     "output_type": "execute_result"
    }
   ],
   "source": [
    "final_matrix.shape"
   ]
  },
  {
   "cell_type": "markdown",
   "metadata": {},
   "source": [
    "Next, we define a function to calcuate the Euclidean distance between a single user and the rest of the users in the data.  Euclidean distance was used as a basic distance measure between users.  "
   ]
  },
  {
   "cell_type": "code",
   "execution_count": 18,
   "metadata": {
    "collapsed": true
   },
   "outputs": [],
   "source": [
    "def euclidean_distance(user, df):\n",
    "    result_df = pd.DataFrame(columns=['username','compared_user','distance'])\n",
    "    mylist = []\n",
    "    for i in df.index:\n",
    "        distance = np.linalg.norm(df.loc[user]-final_matrix.loc[i])\n",
    "        mylist.append([user, i, distance])\n",
    "    result_df = pd.DataFrame(mylist, columns = ['username','compared_user','distance'])    \n",
    "    return result_df"
   ]
  },
  {
   "cell_type": "markdown",
   "metadata": {},
   "source": [
    "Following, we select a user from the data and compare this user with the rest of the users in the data."
   ]
  },
  {
   "cell_type": "code",
   "execution_count": 19,
   "metadata": {},
   "outputs": [
    {
     "data": {
      "text/html": [
       "<div>\n",
       "<style>\n",
       "    .dataframe thead tr:only-child th {\n",
       "        text-align: right;\n",
       "    }\n",
       "\n",
       "    .dataframe thead th {\n",
       "        text-align: left;\n",
       "    }\n",
       "\n",
       "    .dataframe tbody tr th {\n",
       "        vertical-align: top;\n",
       "    }\n",
       "</style>\n",
       "<table border=\"1\" class=\"dataframe\">\n",
       "  <thead>\n",
       "    <tr style=\"text-align: right;\">\n",
       "      <th></th>\n",
       "      <th>username</th>\n",
       "      <th>compared_user</th>\n",
       "      <th>distance</th>\n",
       "    </tr>\n",
       "  </thead>\n",
       "  <tbody>\n",
       "    <tr>\n",
       "      <th>0</th>\n",
       "      <td>C1001$@DOM1</td>\n",
       "      <td>C1$@DOM1</td>\n",
       "      <td>2.449490</td>\n",
       "    </tr>\n",
       "    <tr>\n",
       "      <th>1</th>\n",
       "      <td>C1001$@DOM1</td>\n",
       "      <td>C10$@DOM1</td>\n",
       "      <td>3.162278</td>\n",
       "    </tr>\n",
       "    <tr>\n",
       "      <th>2</th>\n",
       "      <td>C1001$@DOM1</td>\n",
       "      <td>C100$@DOM1</td>\n",
       "      <td>2.000000</td>\n",
       "    </tr>\n",
       "    <tr>\n",
       "      <th>3</th>\n",
       "      <td>C1001$@DOM1</td>\n",
       "      <td>C1000$@DOM1</td>\n",
       "      <td>1.414214</td>\n",
       "    </tr>\n",
       "    <tr>\n",
       "      <th>4</th>\n",
       "      <td>C1001$@DOM1</td>\n",
       "      <td>C1001$@DOM1</td>\n",
       "      <td>0.000000</td>\n",
       "    </tr>\n",
       "  </tbody>\n",
       "</table>\n",
       "</div>"
      ],
      "text/plain": [
       "      username compared_user  distance\n",
       "0  C1001$@DOM1      C1$@DOM1  2.449490\n",
       "1  C1001$@DOM1     C10$@DOM1  3.162278\n",
       "2  C1001$@DOM1    C100$@DOM1  2.000000\n",
       "3  C1001$@DOM1   C1000$@DOM1  1.414214\n",
       "4  C1001$@DOM1   C1001$@DOM1  0.000000"
      ]
     },
     "execution_count": 19,
     "metadata": {},
     "output_type": "execute_result"
    }
   ],
   "source": [
    "user = 'C1001$@DOM1'\n",
    "result_df = euclidean_distance(user, final_matrix)\n",
    "result_df.head()"
   ]
  },
  {
   "cell_type": "code",
   "execution_count": 20,
   "metadata": {},
   "outputs": [
    {
     "data": {
      "text/plain": [
       "count    3008.000000\n",
       "mean        2.397856\n",
       "std         0.714443\n",
       "min         0.000000\n",
       "25%         2.000000\n",
       "50%         2.449490\n",
       "75%         2.828427\n",
       "max         7.483315\n",
       "Name: distance, dtype: float64"
      ]
     },
     "execution_count": 20,
     "metadata": {},
     "output_type": "execute_result"
    }
   ],
   "source": [
    "result_df.distance.describe()"
   ]
  },
  {
   "cell_type": "markdown",
   "metadata": {},
   "source": [
    "As expected, there are 3008 rows, the same number of users in the data set.\n",
    "The minimum of zero indicates a distance of zero, meaning there were other users in the data set that ran the same processes during the same timeframe.  \n",
    "The maximum of ~7 indicates that there are users that run distinctly different processes, more or less, or both."
   ]
  },
  {
   "cell_type": "markdown",
   "metadata": {},
   "source": [
    "##### Visualization of the User Similarity"
   ]
  },
  {
   "cell_type": "code",
   "execution_count": 21,
   "metadata": {},
   "outputs": [
    {
     "data": {
      "text/plain": [
       "<matplotlib.text.Text at 0x1369b0de630>"
      ]
     },
     "execution_count": 21,
     "metadata": {},
     "output_type": "execute_result"
    },
    {
     "data": {
      "image/png": "[encoded data removed]",
      "text/plain": [
       "<matplotlib.figure.Figure at 0x1369b059ef0>"
      ]
     },
     "metadata": {},
     "output_type": "display_data"
    }
   ],
   "source": [
    "plt.figure(figsize=(10,6))\n",
    "sns.set_style('whitegrid')\n",
    "g = sns.swarmplot(x='compared_user', y='distance', data=result_df)\n",
    "g.set_xticklabels([])\n",
    "plt.title('Disimilarity of Users')\n",
    "plt.xlabel('Compared User')\n",
    "plt.ylabel('Disimilarity')"
   ]
  },
  {
   "cell_type": "markdown",
   "metadata": {},
   "source": [
    "###### Discussion of the visualization\n",
    "1.  Because we took the Euclidean distance between the user and all other users, users that are most similar are represented by values closer to or equal to zero.  \n",
    "2.  At the same time, you can see that there are 4 users that are highly disimilar to the user selected.\n",
    "3.  Most of the users fell within a distance of about 1.5 and 3.5."
   ]
  },
  {
   "cell_type": "markdown",
   "metadata": {},
   "source": [
    "### Conclusion and Further Research\n",
    "\n",
    "In this project, a exploratory data analysis was performed on process events for users on a network.  Visualizations, discussions and observations were displayed.  Ultimately, a single user was chosen and compared to the population of other users in the data set.\n",
    "\n",
    "Further research in this data set includes comparing the entire population of users to identify anomalous behavior in the form of process usage, and anomalous groups.  To do this, clustering techniques can be used to identify groups of similar users and identify outliers.  One example of user similarity was presented in this research; therefore, a comparison of the entire data set can be performed.  If this approach does not produce results, other analytic techniques could be used, such as Support Vector Machines.  Also, only Euclid  ean Distance was used in this project.  Other distance measures might be investigated to determine their effectiveness.  \n",
    "\n",
    "Additionally, further analysis of the data to compare process start and stop events on a host by host basis could identify issues with event logging configuration.  Identification of long-lived versus short-lived processes could also be an interesting approach for future work.  Events that are long-lived with no terminate/stop event could be a potential indicator of APT.  Looking for outliers of normal behaviors of particular processes is also another approach that could be completed with this data set.  Processes that are normally short-lived, but have a long-lived outlier might, again, indicate APT. \n",
    "\n"
   ]
  }
 ],
 "metadata": {
  "kernelspec": {
   "display_name": "Python 3",
   "language": "python",
   "name": "python3"
  },
  "language_info": {
   "codemirror_mode": {
    "name": "ipython",
    "version": 3
   },
   "file_extension": ".py",
   "mimetype": "text/x-python",
   "name": "python",
   "nbconvert_exporter": "python",
   "pygments_lexer": "ipython3",
   "version": "3.6.1"
  }
 },
 "nbformat": 4,
 "nbformat_minor": 2
}
